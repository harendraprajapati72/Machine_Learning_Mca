{
 "cells": [
  {
   "cell_type": "code",
   "execution_count": 1,
   "metadata": {},
   "outputs": [
    {
     "name": "stdout",
     "output_type": "stream",
     "text": [
      "   Duration          Date  Pulse  Maxpulse  Calories\n",
      "0        60  '2020/12/01'    110       130     409.1\n",
      "1        60  '2020/12/02'    117       145     479.0\n",
      "2        60  '2020/12/03'    103       135     340.0\n",
      "3        45  '2020/12/04'    109       175     282.4\n",
      "4        45  '2020/12/05'    117       148     406.0\n"
     ]
    }
   ],
   "source": [
    "import pandas as pd\n",
    "df=pd.read_csv('dirtydata.csv')\n",
    "print(df[0:5])"
   ]
  },
  {
   "cell_type": "code",
   "execution_count": 2,
   "metadata": {},
   "outputs": [
    {
     "name": "stdout",
     "output_type": "stream",
     "text": [
      "    Duration          Date  Pulse  Maxpulse  Calories\n",
      "27        60  '2020/12/27'     92       118     241.0\n",
      "28        60  '2020/12/28'    103       132       NaN\n",
      "29        60  '2020/12/29'    100       132     280.0\n",
      "30        60  '2020/12/30'    102       129     380.3\n",
      "31        60  '2020/12/31'     92       115     243.0\n"
     ]
    }
   ],
   "source": [
    "print(df[-5:])"
   ]
  },
  {
   "cell_type": "code",
   "execution_count": 20,
   "metadata": {},
   "outputs": [
    {
     "name": "stdout",
     "output_type": "stream",
     "text": [
      "0    '2020/12/01'\n",
      "1    '2020/12/02'\n",
      "2    '2020/12/03'\n",
      "3    '2020/12/04'\n",
      "4    '2020/12/05'\n",
      "Name: Date, dtype: object\n"
     ]
    }
   ],
   "source": [
    "import pandas as pd\n",
    "df=pd.read_csv('dirtydata.csv')\n",
    "print(df['Date'][0:5])"
   ]
  },
  {
   "cell_type": "code",
   "execution_count": 23,
   "metadata": {},
   "outputs": [
    {
     "name": "stdout",
     "output_type": "stream",
     "text": [
      "            Date  Pulse\n",
      "0   '2020/12/01'    110\n",
      "1   '2020/12/02'    117\n",
      "2   '2020/12/03'    103\n",
      "3   '2020/12/04'    109\n",
      "4   '2020/12/05'    117\n",
      "5   '2020/12/06'    102\n",
      "6   '2020/12/07'    110\n",
      "7   '2020/12/08'    104\n",
      "8   '2020/12/09'    109\n",
      "9   '2020/12/10'     98\n",
      "10  '2020/12/11'    103\n",
      "11  '2020/12/12'    100\n",
      "12  '2020/12/12'    100\n",
      "13  '2020/12/13'    106\n",
      "14  '2020/12/14'    104\n",
      "15  '2020/12/15'     98\n",
      "16  '2020/12/16'     98\n",
      "17  '2020/12/17'    100\n",
      "18  '2020/12/18'     90\n",
      "19  '2020/12/19'    103\n",
      "20  '2020/12/20'     97\n",
      "21  '2020/12/21'    108\n",
      "22           NaN    100\n",
      "23  '2020/12/23'    130\n",
      "24  '2020/12/24'    105\n",
      "25  '2020/12/25'    102\n",
      "26      20201226    100\n",
      "27  '2020/12/27'     92\n",
      "28  '2020/12/28'    103\n",
      "29  '2020/12/29'    100\n",
      "30  '2020/12/30'    102\n",
      "31  '2020/12/31'     92\n"
     ]
    }
   ],
   "source": [
    "import pandas as pd\n",
    "df=pd.read_csv('dirtydata.csv')\n",
    "print(df[['Date','Pulse'][0:5]])"
   ]
  },
  {
   "cell_type": "code",
   "execution_count": null,
   "metadata": {},
   "outputs": [],
   "source": []
  }
 ],
 "metadata": {
  "kernelspec": {
   "display_name": "Python 3.10.5 64-bit",
   "language": "python",
   "name": "python3"
  },
  "language_info": {
   "codemirror_mode": {
    "name": "ipython",
    "version": 3
   },
   "file_extension": ".py",
   "mimetype": "text/x-python",
   "name": "python",
   "nbconvert_exporter": "python",
   "pygments_lexer": "ipython3",
   "version": "3.10.5"
  },
  "orig_nbformat": 4,
  "vscode": {
   "interpreter": {
    "hash": "aee8b7b246df8f9039afb4144a1f6fd8d2ca17a180786b69acc140d282b71a49"
   }
  }
 },
 "nbformat": 4,
 "nbformat_minor": 2
}
