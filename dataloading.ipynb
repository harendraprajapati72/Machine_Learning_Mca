{
 "cells": [
  {
   "cell_type": "code",
   "execution_count": 10,
   "metadata": {},
   "outputs": [
    {
     "name": "stdout",
     "output_type": "stream",
     "text": [
      "    Duration  ... Calories\n",
      "0         60  ...    409.1\n",
      "1         60  ...    479.0\n",
      "2         60  ...    340.0\n",
      "3         45  ...    282.4\n",
      "4         45  ...    406.0\n",
      "5         60  ...    300.0\n",
      "6         60  ...    374.0\n",
      "7        450  ...    253.3\n",
      "8         30  ...    195.1\n",
      "9         60  ...    269.0\n",
      "10        60  ...    329.3\n",
      "11        60  ...    250.7\n",
      "12        60  ...    250.7\n",
      "13        60  ...    345.3\n",
      "14        60  ...    379.3\n",
      "15        60  ...    275.0\n",
      "16        60  ...    215.2\n",
      "17        60  ...    300.0\n",
      "18        45  ...      NaN\n",
      "19        60  ...    323.0\n",
      "20        45  ...    243.0\n",
      "21        60  ...    364.2\n",
      "22        45  ...    282.0\n",
      "23        60  ...    300.0\n",
      "24        45  ...    246.0\n",
      "25        60  ...    334.5\n",
      "26        60  ...    250.0\n",
      "27        60  ...    241.0\n",
      "28        60  ...      NaN\n",
      "29        60  ...    280.0\n",
      "30        60  ...    380.3\n",
      "31        60  ...    243.0\n",
      "\n",
      "[32 rows x 5 columns]\n",
      "<bound method DataFrame.to_string of     Duration  ... Calories\n",
      "0         60  ...    409.1\n",
      "1         60  ...    479.0\n",
      "2         60  ...    340.0\n",
      "3         45  ...    282.4\n",
      "4         45  ...    406.0\n",
      "5         60  ...    300.0\n",
      "6         60  ...    374.0\n",
      "7        450  ...    253.3\n",
      "8         30  ...    195.1\n",
      "9         60  ...    269.0\n",
      "10        60  ...    329.3\n",
      "11        60  ...    250.7\n",
      "12        60  ...    250.7\n",
      "13        60  ...    345.3\n",
      "14        60  ...    379.3\n",
      "15        60  ...    275.0\n",
      "16        60  ...    215.2\n",
      "17        60  ...    300.0\n",
      "18        45  ...      NaN\n",
      "19        60  ...    323.0\n",
      "20        45  ...    243.0\n",
      "21        60  ...    364.2\n",
      "22        45  ...    282.0\n",
      "23        60  ...    300.0\n",
      "24        45  ...    246.0\n",
      "25        60  ...    334.5\n",
      "26        60  ...    250.0\n",
      "27        60  ...    241.0\n",
      "28        60  ...      NaN\n",
      "29        60  ...    280.0\n",
      "30        60  ...    380.3\n",
      "31        60  ...    243.0\n",
      "\n",
      "[32 rows x 5 columns]>\n"
     ]
    }
   ],
   "source": [
    "import pandas as pd\n",
    "df=pd.read_csv('dirtydata.csv') \n",
    "#print(df)\n",
    "\n",
    "print(df.to_string)#print/convert data into string"
   ]
  },
  {
   "cell_type": "code",
   "execution_count": 3,
   "metadata": {},
   "outputs": [
    {
     "name": "stdout",
     "output_type": "stream",
     "text": [
      "   Duration          Date  Pulse  Maxpulse  Calories\n",
      "0        60  '2020/12/01'    110       130     409.1\n",
      "1        60  '2020/12/02'    117       145     479.0\n",
      "2        60  '2020/12/03'    103       135     340.0\n",
      "3        45  '2020/12/04'    109       175     282.4\n",
      "4        45  '2020/12/05'    117       148     406.0\n"
     ]
    }
   ],
   "source": [
    "print(df.head(5))"
   ]
  },
  {
   "cell_type": "code",
   "execution_count": 5,
   "metadata": {},
   "outputs": [
    {
     "name": "stdout",
     "output_type": "stream",
     "text": [
      "    Duration          Date  Pulse  Maxpulse  Calories\n",
      "29        60  '2020/12/29'    100       132     280.0\n",
      "30        60  '2020/12/30'    102       129     380.3\n",
      "31        60  '2020/12/31'     92       115     243.0\n"
     ]
    }
   ],
   "source": [
    "print(df.tail(3))"
   ]
  },
  {
   "cell_type": "code",
   "execution_count": 7,
   "metadata": {},
   "outputs": [
    {
     "name": "stdout",
     "output_type": "stream",
     "text": [
      "   Duration  ... Calories\n",
      "0        60  ...    409.1\n",
      "1        60  ...    479.0\n",
      "2        60  ...    340.0\n",
      "3        45  ...    282.4\n",
      "4        45  ...    406.0\n",
      "\n",
      "[5 rows x 5 columns]\n",
      "None\n"
     ]
    }
   ],
   "source": [
    "import pandas as pd\n",
    "df=pd.read_csv('dirtydata.csv')\n",
    "print(df.head(5))\n",
    "print(pd.set_option('display.max_columns',(3)))#display 3 columns of dataset"
   ]
  },
  {
   "cell_type": "code",
   "execution_count": 9,
   "metadata": {},
   "outputs": [
    {
     "name": "stdout",
     "output_type": "stream",
     "text": [
      "Index(['Duration', 'Date', 'Pulse', 'Maxpulse', 'Calories'], dtype='object')\n"
     ]
    }
   ],
   "source": [
    "import pandas as pd\n",
    "df=pd.read_csv('dirtydata.csv')\n",
    "\n",
    "print(df.columns)#show the column of data set"
   ]
  },
  {
   "cell_type": "code",
   "execution_count": 11,
   "metadata": {},
   "outputs": [
    {
     "name": "stdout",
     "output_type": "stream",
     "text": [
      "                    0   ...            31\n",
      "Duration            60  ...            60\n",
      "Date      '2020/12/01'  ...  '2020/12/31'\n",
      "Pulse              110  ...            92\n",
      "Maxpulse           130  ...           115\n",
      "Calories         409.1  ...         243.0\n",
      "\n",
      "[5 rows x 32 columns]\n"
     ]
    }
   ],
   "source": [
    "print(df.transpose())#transpose converts rows into columns"
   ]
  },
  {
   "cell_type": "code",
   "execution_count": 13,
   "metadata": {},
   "outputs": [
    {
     "name": "stdout",
     "output_type": "stream",
     "text": [
      "(32, 5)\n"
     ]
    }
   ],
   "source": [
    "print(df.shape)#size of rows and columns"
   ]
  },
  {
   "cell_type": "code",
   "execution_count": 14,
   "metadata": {},
   "outputs": [
    {
     "name": "stdout",
     "output_type": "stream",
     "text": [
      "160\n"
     ]
    }
   ],
   "source": [
    "print(df.size)#size of data"
   ]
  },
  {
   "cell_type": "code",
   "execution_count": null,
   "metadata": {},
   "outputs": [],
   "source": []
  }
 ],
 "metadata": {
  "kernelspec": {
   "display_name": "Python 3.10.5 64-bit",
   "language": "python",
   "name": "python3"
  },
  "language_info": {
   "codemirror_mode": {
    "name": "ipython",
    "version": 3
   },
   "file_extension": ".py",
   "mimetype": "text/x-python",
   "name": "python",
   "nbconvert_exporter": "python",
   "pygments_lexer": "ipython3",
   "version": "3.10.5"
  },
  "orig_nbformat": 4,
  "vscode": {
   "interpreter": {
    "hash": "aee8b7b246df8f9039afb4144a1f6fd8d2ca17a180786b69acc140d282b71a49"
   }
  }
 },
 "nbformat": 4,
 "nbformat_minor": 2
}
